{
 "cells": [
  {
   "cell_type": "code",
   "execution_count": 139,
   "id": "7bb912fe",
   "metadata": {},
   "outputs": [],
   "source": [
    "import os\n",
    "import json\n",
    "import librosa\n",
    "import soundfile\n",
    "import numpy as np\n",
    "import pandas as pd\n",
    "from collections import Counter\n",
    "from os.path import join, exists\n",
    "from tqdm import tqdm\n",
    "from sklearn.preprocessing import OneHotEncoder"
   ]
  },
  {
   "cell_type": "code",
   "execution_count": 146,
   "id": "1c18d9f8",
   "metadata": {},
   "outputs": [],
   "source": [
    "def mix_slices(main_sample, slices):\n",
    "    n_slices = len(slices)\n",
    "    coefs = (np.random.rand(n_slices) + 0.1) / 1.1 \n",
    "    for i in range(n_slices):\n",
    "        main_sample += slices[i] * coefs[i]\n",
    "    main_sample /= np.abs(main_sample.max())\n",
    "    return main_sample"
   ]
  },
  {
   "cell_type": "code",
   "execution_count": 77,
   "id": "d25176b3",
   "metadata": {},
   "outputs": [],
   "source": [
    "datasets = [\"freesound\"]\n",
    "clean_data = join(\"data\", \"clean_data\")\n",
    "train_data = join(\"data\", \"train_data\")\n",
    "sr = 44100"
   ]
  },
  {
   "cell_type": "code",
   "execution_count": 160,
   "id": "ac32454c",
   "metadata": {},
   "outputs": [
    {
     "ename": "ValueError",
     "evalue": "operands could not be broadcast together with shapes (44100,) (15360,) (44100,) ",
     "output_type": "error",
     "traceback": [
      "\u001b[0;31m---------------------------------------------------------------------------\u001b[0m",
      "\u001b[0;31mValueError\u001b[0m                                Traceback (most recent call last)",
      "\u001b[0;32m<ipython-input-160-f71f3ccb9d51>\u001b[0m in \u001b[0;36m<module>\u001b[0;34m\u001b[0m\n\u001b[1;32m     16\u001b[0m         \u001b[0msamples_y\u001b[0m\u001b[0;34m.\u001b[0m\u001b[0mappend\u001b[0m\u001b[0;34m(\u001b[0m\u001b[0mlabel\u001b[0m\u001b[0;34m)\u001b[0m\u001b[0;34m\u001b[0m\u001b[0;34m\u001b[0m\u001b[0m\n\u001b[1;32m     17\u001b[0m \u001b[0;34m\u001b[0m\u001b[0m\n\u001b[0;32m---> 18\u001b[0;31m         \u001b[0mmain_sample\u001b[0m \u001b[0;34m=\u001b[0m \u001b[0mmix_slices\u001b[0m\u001b[0;34m(\u001b[0m\u001b[0mmain_sample\u001b[0m\u001b[0;34m,\u001b[0m \u001b[0msamples_x\u001b[0m\u001b[0;34m)\u001b[0m\u001b[0;34m\u001b[0m\u001b[0;34m\u001b[0m\u001b[0m\n\u001b[0m\u001b[1;32m     19\u001b[0m \u001b[0;34m\u001b[0m\u001b[0m\n\u001b[1;32m     20\u001b[0m         \u001b[0mprint\u001b[0m\u001b[0;34m(\u001b[0m\u001b[0;34m)\u001b[0m\u001b[0;34m\u001b[0m\u001b[0;34m\u001b[0m\u001b[0m\n",
      "\u001b[0;32m<ipython-input-146-379e21422c3a>\u001b[0m in \u001b[0;36mmix_slices\u001b[0;34m(main_sample, slices)\u001b[0m\n\u001b[1;32m      3\u001b[0m     \u001b[0mcoefs\u001b[0m \u001b[0;34m=\u001b[0m \u001b[0;34m(\u001b[0m\u001b[0mnp\u001b[0m\u001b[0;34m.\u001b[0m\u001b[0mrandom\u001b[0m\u001b[0;34m.\u001b[0m\u001b[0mrand\u001b[0m\u001b[0;34m(\u001b[0m\u001b[0mn_slices\u001b[0m\u001b[0;34m)\u001b[0m \u001b[0;34m+\u001b[0m \u001b[0;36m0.1\u001b[0m\u001b[0;34m)\u001b[0m \u001b[0;34m/\u001b[0m \u001b[0;36m1.1\u001b[0m\u001b[0;34m\u001b[0m\u001b[0;34m\u001b[0m\u001b[0m\n\u001b[1;32m      4\u001b[0m     \u001b[0;32mfor\u001b[0m \u001b[0mi\u001b[0m \u001b[0;32min\u001b[0m \u001b[0mrange\u001b[0m\u001b[0;34m(\u001b[0m\u001b[0mn_slices\u001b[0m\u001b[0;34m)\u001b[0m\u001b[0;34m:\u001b[0m\u001b[0;34m\u001b[0m\u001b[0;34m\u001b[0m\u001b[0m\n\u001b[0;32m----> 5\u001b[0;31m         \u001b[0mmain_sample\u001b[0m \u001b[0;34m+=\u001b[0m \u001b[0mslices\u001b[0m\u001b[0;34m[\u001b[0m\u001b[0mi\u001b[0m\u001b[0;34m]\u001b[0m \u001b[0;34m*\u001b[0m \u001b[0mcoefs\u001b[0m\u001b[0;34m[\u001b[0m\u001b[0mi\u001b[0m\u001b[0;34m]\u001b[0m\u001b[0;34m\u001b[0m\u001b[0;34m\u001b[0m\u001b[0m\n\u001b[0m\u001b[1;32m      6\u001b[0m     \u001b[0mmain_sample\u001b[0m \u001b[0;34m/=\u001b[0m \u001b[0mnp\u001b[0m\u001b[0;34m.\u001b[0m\u001b[0mabs\u001b[0m\u001b[0;34m(\u001b[0m\u001b[0mmain_sample\u001b[0m\u001b[0;34m.\u001b[0m\u001b[0mmax\u001b[0m\u001b[0;34m(\u001b[0m\u001b[0;34m)\u001b[0m\u001b[0;34m)\u001b[0m\u001b[0;34m\u001b[0m\u001b[0;34m\u001b[0m\u001b[0m\n\u001b[1;32m      7\u001b[0m     \u001b[0;32mreturn\u001b[0m \u001b[0mmain_sample\u001b[0m\u001b[0;34m\u001b[0m\u001b[0;34m\u001b[0m\u001b[0m\n",
      "\u001b[0;31mValueError\u001b[0m: operands could not be broadcast together with shapes (44100,) (15360,) (44100,) "
     ]
    }
   ],
   "source": [
    "for dataset in datasets:\n",
    "    encoder = OneHotEncoder()\n",
    "    csv = pd.read_csv(join(clean_data, dataset, \"samples.csv\"), index_col=0)\n",
    "    classes = list(Counter(csv.label).keys())\n",
    "    result = []\n",
    "    for i, row in csv.iterrows():\n",
    "        file, label = row\n",
    "        main_sample, _ = librosa.load(join(clean_data, dataset, \"samples\", file), sr=sr)\n",
    "        \n",
    "        n_samples = np.random.randint(0, 5)\n",
    "        samples = np.random.choice(np.arange(csv.values.shape[0]), size=n_samples)\n",
    "        samples = csv.values[samples]\n",
    "        samples_x = [librosa.load(join(clean_data, dataset, \"samples\", x), sr=sr)[0] \n",
    "                     for x, _ in samples]\n",
    "        samples_y = [y for _, y in samples]\n",
    "        samples_y.append(label)\n",
    "        \n",
    "        main_sample = mix_slices(main_sample, samples_x)\n",
    "        \n",
    "        print()\n",
    "        break\n",
    "        "
   ]
  },
  {
   "cell_type": "code",
   "execution_count": 159,
   "id": "eeb42d56",
   "metadata": {},
   "outputs": [],
   "source": [
    "soundfile.write(\"sample.wav\", main_sample, sr)"
   ]
  },
  {
   "cell_type": "code",
   "execution_count": 127,
   "id": "8a9d2de5",
   "metadata": {},
   "outputs": [
    {
     "data": {
      "text/plain": [
       "array([0.49427528, 0.72031299, 0.67379556, 0.63140991, 0.98172594])"
      ]
     },
     "execution_count": 127,
     "metadata": {},
     "output_type": "execute_result"
    }
   ],
   "source": [
    "(np.random.rand(5) + 0.1) / 1.1 "
   ]
  },
  {
   "cell_type": "code",
   "execution_count": 138,
   "id": "0ab61895",
   "metadata": {},
   "outputs": [
    {
     "data": {
      "text/plain": [
       "['Hi-hat',\n",
       " 'Saxophone',\n",
       " 'Trumpet',\n",
       " 'Clarinet',\n",
       " 'Snare_drum',\n",
       " 'Flute',\n",
       " 'Bass_drum',\n",
       " 'Double_bass',\n",
       " 'Tambourine',\n",
       " 'Electric_piano',\n",
       " 'Acoustic_guitar',\n",
       " 'Violin_or_fiddle']"
      ]
     },
     "execution_count": 138,
     "metadata": {},
     "output_type": "execute_result"
    }
   ],
   "source": []
  },
  {
   "cell_type": "code",
   "execution_count": 162,
   "id": "e01bb52e",
   "metadata": {},
   "outputs": [
    {
     "name": "stdout",
     "output_type": "stream",
     "text": [
      "(15360,)\n",
      "(13824,)\n",
      "(44100,)\n",
      "(44100,)\n"
     ]
    }
   ],
   "source": [
    "for i in samples_x:\n",
    "    print(i.shape)"
   ]
  },
  {
   "cell_type": "code",
   "execution_count": 164,
   "id": "3915451d",
   "metadata": {},
   "outputs": [
    {
     "data": {
      "text/plain": [
       "array([['18309.wav', 'Violin_or_fiddle'],\n",
       "       ['5699.wav', 'Bass_drum'],\n",
       "       ['4287.wav', 'Acoustic_guitar'],\n",
       "       ['20042.wav', 'Saxophone']], dtype=object)"
      ]
     },
     "execution_count": 164,
     "metadata": {},
     "output_type": "execute_result"
    }
   ],
   "source": [
    "samples"
   ]
  }
 ],
 "metadata": {
  "kernelspec": {
   "display_name": "pytorch",
   "language": "python",
   "name": "pytorch"
  },
  "language_info": {
   "codemirror_mode": {
    "name": "ipython",
    "version": 3
   },
   "file_extension": ".py",
   "mimetype": "text/x-python",
   "name": "python",
   "nbconvert_exporter": "python",
   "pygments_lexer": "ipython3",
   "version": "3.8.11"
  }
 },
 "nbformat": 4,
 "nbformat_minor": 5
}
