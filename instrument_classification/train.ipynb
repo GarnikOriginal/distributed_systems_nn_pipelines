{
 "cells": [
  {
   "cell_type": "code",
   "execution_count": 1,
   "id": "0d4c1e56",
   "metadata": {},
   "outputs": [],
   "source": [
    "import os\n",
    "import json\n",
    "import torch\n",
    "import librosa\n",
    "import soundfile\n",
    "import numpy as np\n",
    "import pandas as pd\n",
    "import torch.nn as nn\n",
    "import torch.nn.functional as F\n",
    "import matplotlib.pyplot as plt\n",
    "from sklearn.metrics import accuracy_score, f1_score\n",
    "from torch.utils.data import DataLoader, Dataset, random_split\n",
    "from efficientnet_pytorch import EfficientNet\n",
    "from os.path import join, exists\n",
    "from tqdm import tqdm"
   ]
  },
  {
   "cell_type": "code",
   "execution_count": 2,
   "id": "d7690dba",
   "metadata": {},
   "outputs": [],
   "source": [
    "batch_size = 256\n",
    "lr = 1e-3\n",
    "epochs = 50\n",
    "model_name = \"0.0.4 without batch_norm\""
   ]
  },
  {
   "cell_type": "code",
   "execution_count": 3,
   "id": "cd25676d",
   "metadata": {},
   "outputs": [],
   "source": [
    "if not exists(join(\"results\", model_name)):\n",
    "    os.mkdir(join(\"results\", model_name))\n",
    "    os.mkdir(join(\"results\", model_name, \"weights\"))"
   ]
  },
  {
   "cell_type": "code",
   "execution_count": 4,
   "id": "126fe827",
   "metadata": {},
   "outputs": [],
   "source": [
    "class MusicNet(nn.Module):\n",
    "    def __init__(self, input_shape, n_classes, device=\"cpu\"):\n",
    "        super().__init__()\n",
    "        # self.norm = nn.BatchNorm2d(num_features=3)\n",
    "        self.conv_block = EfficientNet.from_name(\"efficientnet-b0\", include_top=False)\n",
    "        self.activation1 = nn.LeakyReLU()\n",
    "        self.fc1 = nn.Linear(in_features=1280 * int(input_shape[2] / 16), out_features=180)\n",
    "        self.activation2 = nn.LeakyReLU()\n",
    "        self.fc2 = nn.Linear(in_features=180, out_features=n_classes)\n",
    "        self.activation3 = nn.Sigmoid()\n",
    "        self.to(device)\n",
    "    \n",
    "    def forward(self, x):\n",
    "        # x = self.norm(x)\n",
    "        x = self.conv_block.extract_features(x)\n",
    "        x = x.reshape((x.size()[0], -1))\n",
    "        x = self.activation1(x)\n",
    "        x = self.activation2(self.fc1(x))\n",
    "        x = self.fc2(x)\n",
    "        return self.activation3(x)"
   ]
  },
  {
   "cell_type": "code",
   "execution_count": 5,
   "id": "8a9c3732",
   "metadata": {},
   "outputs": [],
   "source": [
    "class MFCCDataSet(Dataset):\n",
    "    def __init__(self, csv):\n",
    "        self.csv = pd.read_csv(csv, index_col=0)\n",
    "        self.x = self.csv.file.values\n",
    "        self.y = self.csv.drop(\"file\", axis=1).values\n",
    "    \n",
    "    def __getitem__(self, ind):\n",
    "        return torch.tensor(np.load(join(\"data\", \"mfcc_data\", \"samples\", self.x[ind]))), \\\n",
    "               torch.tensor(self.y[ind], dtype=torch.float32)\n",
    "    \n",
    "    def __len__(self):\n",
    "        return len(self.x)\n",
    "    \n",
    "    def n_classes(self):\n",
    "        return self.y.shape[1] "
   ]
  },
  {
   "cell_type": "code",
   "execution_count": 6,
   "id": "1ff4211e",
   "metadata": {},
   "outputs": [],
   "source": [
    "dataset = MFCCDataSet(join(\"data\", \"mfcc_data\", \"samples.csv\"))\n",
    "train, test = random_split(dataset, [int(len(dataset) * 0.9), \n",
    "                                     len(dataset) - int(len(dataset) * 0.9)])\n",
    "train = DataLoader(train, batch_size=batch_size, shuffle=True, drop_last=True, num_workers=2)\n",
    "test = DataLoader(test,  batch_size=batch_size, drop_last=True, num_workers=2)"
   ]
  },
  {
   "cell_type": "code",
   "execution_count": 7,
   "id": "a57c9848",
   "metadata": {},
   "outputs": [],
   "source": [
    "model = MusicNet((batch_size, 3, 128, 87), dataset.n_classes(), \"cuda\")\n",
    "optimizer = torch.optim.Adam(model.parameters(), lr=lr, weight_decay=1e-5)\n",
    "scheduler = torch.optim.lr_scheduler.ReduceLROnPlateau(optimizer, 'min', \n",
    "                                                       factor=0.7, \n",
    "                                                       patience=10, \n",
    "                                                       verbose=True)\n",
    "loss = nn.MSELoss()"
   ]
  },
  {
   "cell_type": "code",
   "execution_count": 8,
   "id": "8135537d",
   "metadata": {},
   "outputs": [],
   "source": [
    "log = {\"loss\": [], \"accuracy\": [], \"test_loss\": [], \"test_accuracy\": []}"
   ]
  },
  {
   "cell_type": "code",
   "execution_count": 9,
   "id": "e77af8df",
   "metadata": {
    "scrolled": false
   },
   "outputs": [
    {
     "name": "stdout",
     "output_type": "stream",
     "text": [
      "EPOCH:1\n"
     ]
    },
    {
     "name": "stderr",
     "output_type": "stream",
     "text": [
      "58it [00:20,  2.85it/s]"
     ]
    },
    {
     "name": "stdout",
     "output_type": "stream",
     "text": [
      "Train: loss - 0.1567222848534584, acc. - 0.015355603448275862\n"
     ]
    },
    {
     "name": "stderr",
     "output_type": "stream",
     "text": [
      "\n",
      "6it [00:00,  8.25it/s]\n"
     ]
    },
    {
     "name": "stdout",
     "output_type": "stream",
     "text": [
      "Test: test_loss - 0.18069839725891748, test_accuracy - 0.0\n",
      "EPOCH:2\n"
     ]
    },
    {
     "name": "stderr",
     "output_type": "stream",
     "text": [
      "58it [00:20,  2.90it/s]"
     ]
    },
    {
     "name": "stdout",
     "output_type": "stream",
     "text": [
      "Train: loss - 0.14049222012018336, acc. - 0.06351023706896551\n"
     ]
    },
    {
     "name": "stderr",
     "output_type": "stream",
     "text": [
      "\n",
      "6it [00:00,  7.83it/s]\n"
     ]
    },
    {
     "name": "stdout",
     "output_type": "stream",
     "text": [
      "Test: test_loss - 0.16928465912739435, test_accuracy - 0.0\n",
      "EPOCH:3\n"
     ]
    },
    {
     "name": "stderr",
     "output_type": "stream",
     "text": [
      "58it [00:19,  2.93it/s]"
     ]
    },
    {
     "name": "stdout",
     "output_type": "stream",
     "text": [
      "Train: loss - 0.12932643114492812, acc. - 0.12803071120689655\n"
     ]
    },
    {
     "name": "stderr",
     "output_type": "stream",
     "text": [
      "\n",
      "6it [00:00,  8.21it/s]\n"
     ]
    },
    {
     "name": "stdout",
     "output_type": "stream",
     "text": [
      "Test: test_loss - 0.16373657683531442, test_accuracy - 0.0\n",
      "EPOCH:4\n"
     ]
    },
    {
     "name": "stderr",
     "output_type": "stream",
     "text": [
      "58it [00:19,  2.96it/s]"
     ]
    },
    {
     "name": "stdout",
     "output_type": "stream",
     "text": [
      "Train: loss - 0.1220223762351891, acc. - 0.16062769396551724\n"
     ]
    },
    {
     "name": "stderr",
     "output_type": "stream",
     "text": [
      "\n",
      "6it [00:00,  8.07it/s]\n"
     ]
    },
    {
     "name": "stdout",
     "output_type": "stream",
     "text": [
      "Test: test_loss - 0.1625742862621943, test_accuracy - 0.0\n",
      "EPOCH:5\n"
     ]
    },
    {
     "name": "stderr",
     "output_type": "stream",
     "text": [
      "58it [00:19,  2.97it/s]"
     ]
    },
    {
     "name": "stdout",
     "output_type": "stream",
     "text": [
      "Train: loss - 0.11610447448389284, acc. - 0.1822467672413793\n"
     ]
    },
    {
     "name": "stderr",
     "output_type": "stream",
     "text": [
      "\n",
      "6it [00:00,  8.01it/s]\n"
     ]
    },
    {
     "name": "stdout",
     "output_type": "stream",
     "text": [
      "Test: test_loss - 0.1612678145368894, test_accuracy - 0.0\n",
      "EPOCH:6\n"
     ]
    },
    {
     "name": "stderr",
     "output_type": "stream",
     "text": [
      "58it [00:19,  2.91it/s]"
     ]
    },
    {
     "name": "stdout",
     "output_type": "stream",
     "text": [
      "Train: loss - 0.10954156402370026, acc. - 0.20245150862068967\n"
     ]
    },
    {
     "name": "stderr",
     "output_type": "stream",
     "text": [
      "\n",
      "6it [00:00,  8.10it/s]\n"
     ]
    },
    {
     "name": "stdout",
     "output_type": "stream",
     "text": [
      "Test: test_loss - 0.16243880738814673, test_accuracy - 0.0\n",
      "EPOCH:7\n"
     ]
    },
    {
     "name": "stderr",
     "output_type": "stream",
     "text": [
      "58it [00:19,  2.95it/s]"
     ]
    },
    {
     "name": "stdout",
     "output_type": "stream",
     "text": [
      "Train: loss - 0.10430311784148216, acc. - 0.22157866379310345\n"
     ]
    },
    {
     "name": "stderr",
     "output_type": "stream",
     "text": [
      "\n",
      "6it [00:00,  8.08it/s]\n"
     ]
    },
    {
     "name": "stdout",
     "output_type": "stream",
     "text": [
      "Test: test_loss - 0.16092814753452936, test_accuracy - 0.0006510416666666666\n",
      "EPOCH:8\n"
     ]
    },
    {
     "name": "stderr",
     "output_type": "stream",
     "text": [
      "58it [00:19,  2.93it/s]"
     ]
    },
    {
     "name": "stdout",
     "output_type": "stream",
     "text": [
      "Train: loss - 0.09816048564068203, acc. - 0.2396955818965517\n"
     ]
    },
    {
     "name": "stderr",
     "output_type": "stream",
     "text": [
      "\n",
      "6it [00:00,  7.94it/s]\n"
     ]
    },
    {
     "name": "stdout",
     "output_type": "stream",
     "text": [
      "Test: test_loss - 0.15086949616670609, test_accuracy - 0.061197916666666664\n",
      "EPOCH:9\n"
     ]
    },
    {
     "name": "stderr",
     "output_type": "stream",
     "text": [
      "58it [00:19,  2.95it/s]"
     ]
    },
    {
     "name": "stdout",
     "output_type": "stream",
     "text": [
      "Train: loss - 0.09173770801260553, acc. - 0.2689924568965517\n"
     ]
    },
    {
     "name": "stderr",
     "output_type": "stream",
     "text": [
      "\n",
      "6it [00:00,  8.25it/s]\n"
     ]
    },
    {
     "name": "stdout",
     "output_type": "stream",
     "text": [
      "Test: test_loss - 0.1440179298321406, test_accuracy - 0.09765625\n",
      "EPOCH:10\n"
     ]
    },
    {
     "name": "stderr",
     "output_type": "stream",
     "text": [
      "58it [00:19,  2.95it/s]"
     ]
    },
    {
     "name": "stdout",
     "output_type": "stream",
     "text": [
      "Train: loss - 0.0857312432650862, acc. - 0.2945177801724138\n"
     ]
    },
    {
     "name": "stderr",
     "output_type": "stream",
     "text": [
      "\n",
      "6it [00:00,  8.10it/s]\n"
     ]
    },
    {
     "name": "stdout",
     "output_type": "stream",
     "text": [
      "Test: test_loss - 0.1311041203637918, test_accuracy - 0.12565104166666666\n",
      "EPOCH:11\n"
     ]
    },
    {
     "name": "stderr",
     "output_type": "stream",
     "text": [
      "58it [00:19,  2.95it/s]"
     ]
    },
    {
     "name": "stdout",
     "output_type": "stream",
     "text": [
      "Train: loss - 0.08252723270962978, acc. - 0.30300377155172414\n"
     ]
    },
    {
     "name": "stderr",
     "output_type": "stream",
     "text": [
      "\n",
      "6it [00:00,  8.19it/s]\n"
     ]
    },
    {
     "name": "stdout",
     "output_type": "stream",
     "text": [
      "Test: test_loss - 0.11754316960771878, test_accuracy - 0.19791666666666666\n",
      "EPOCH:12\n"
     ]
    },
    {
     "name": "stderr",
     "output_type": "stream",
     "text": [
      "58it [00:19,  2.95it/s]"
     ]
    },
    {
     "name": "stdout",
     "output_type": "stream",
     "text": [
      "Train: loss - 0.07492670275527856, acc. - 0.34294181034482757\n"
     ]
    },
    {
     "name": "stderr",
     "output_type": "stream",
     "text": [
      "\n",
      "6it [00:00,  7.95it/s]\n"
     ]
    },
    {
     "name": "stdout",
     "output_type": "stream",
     "text": [
      "Test: test_loss - 0.11943349987268448, test_accuracy - 0.19856770833333334\n",
      "EPOCH:13\n"
     ]
    },
    {
     "name": "stderr",
     "output_type": "stream",
     "text": [
      "58it [00:19,  2.96it/s]"
     ]
    },
    {
     "name": "stdout",
     "output_type": "stream",
     "text": [
      "Train: loss - 0.06894442952912429, acc. - 0.3728448275862069\n"
     ]
    },
    {
     "name": "stderr",
     "output_type": "stream",
     "text": [
      "\n",
      "6it [00:00,  8.16it/s]\n"
     ]
    },
    {
     "name": "stdout",
     "output_type": "stream",
     "text": [
      "Test: test_loss - 0.11821117872993152, test_accuracy - 0.21744791666666666\n",
      "EPOCH:14\n"
     ]
    },
    {
     "name": "stderr",
     "output_type": "stream",
     "text": [
      "58it [00:19,  2.95it/s]"
     ]
    },
    {
     "name": "stdout",
     "output_type": "stream",
     "text": [
      "Train: loss - 0.06303170618825946, acc. - 0.41022359913793105\n"
     ]
    },
    {
     "name": "stderr",
     "output_type": "stream",
     "text": [
      "\n",
      "6it [00:00,  7.95it/s]\n"
     ]
    },
    {
     "name": "stdout",
     "output_type": "stream",
     "text": [
      "Test: test_loss - 0.12045534948507945, test_accuracy - 0.2109375\n",
      "EPOCH:15\n"
     ]
    },
    {
     "name": "stderr",
     "output_type": "stream",
     "text": [
      "58it [00:19,  2.95it/s]"
     ]
    },
    {
     "name": "stdout",
     "output_type": "stream",
     "text": [
      "Train: loss - 0.05903390827107018, acc. - 0.43527747844827586\n"
     ]
    },
    {
     "name": "stderr",
     "output_type": "stream",
     "text": [
      "\n",
      "6it [00:00,  7.93it/s]\n"
     ]
    },
    {
     "name": "stdout",
     "output_type": "stream",
     "text": [
      "Test: test_loss - 0.12239452948172887, test_accuracy - 0.19401041666666666\n",
      "EPOCH:16\n"
     ]
    },
    {
     "name": "stderr",
     "output_type": "stream",
     "text": [
      "58it [00:19,  2.95it/s]"
     ]
    },
    {
     "name": "stdout",
     "output_type": "stream",
     "text": [
      "Train: loss - 0.053482784343690706, acc. - 0.4676724137931034\n"
     ]
    },
    {
     "name": "stderr",
     "output_type": "stream",
     "text": [
      "\n",
      "6it [00:00,  7.92it/s]\n"
     ]
    },
    {
     "name": "stdout",
     "output_type": "stream",
     "text": [
      "Test: test_loss - 0.12577626605828604, test_accuracy - 0.205078125\n",
      "EPOCH:17\n"
     ]
    },
    {
     "name": "stderr",
     "output_type": "stream",
     "text": [
      "58it [00:19,  2.95it/s]"
     ]
    },
    {
     "name": "stdout",
     "output_type": "stream",
     "text": [
      "Train: loss - 0.05019206431662214, acc. - 0.48834859913793105\n"
     ]
    },
    {
     "name": "stderr",
     "output_type": "stream",
     "text": [
      "\n",
      "6it [00:00,  8.07it/s]\n"
     ]
    },
    {
     "name": "stdout",
     "output_type": "stream",
     "text": [
      "Test: test_loss - 0.1306468273202578, test_accuracy - 0.185546875\n",
      "EPOCH:18\n"
     ]
    },
    {
     "name": "stderr",
     "output_type": "stream",
     "text": [
      "58it [00:19,  2.93it/s]"
     ]
    },
    {
     "name": "stdout",
     "output_type": "stream",
     "text": [
      "Train: loss - 0.04684607973643418, acc. - 0.5121228448275862\n"
     ]
    },
    {
     "name": "stderr",
     "output_type": "stream",
     "text": [
      "\n",
      "6it [00:00,  7.96it/s]\n"
     ]
    },
    {
     "name": "stdout",
     "output_type": "stream",
     "text": [
      "Test: test_loss - 0.13186698034405708, test_accuracy - 0.20703125\n",
      "EPOCH:19\n"
     ]
    },
    {
     "name": "stderr",
     "output_type": "stream",
     "text": [
      "58it [00:20,  2.83it/s]"
     ]
    },
    {
     "name": "stdout",
     "output_type": "stream",
     "text": [
      "Train: loss - 0.04461119150550201, acc. - 0.5289601293103449\n"
     ]
    },
    {
     "name": "stderr",
     "output_type": "stream",
     "text": [
      "\n",
      "6it [00:00,  8.03it/s]\n"
     ]
    },
    {
     "name": "stdout",
     "output_type": "stream",
     "text": [
      "Test: test_loss - 0.13270644595225653, test_accuracy - 0.20377604166666666\n",
      "EPOCH:20\n"
     ]
    },
    {
     "name": "stderr",
     "output_type": "stream",
     "text": [
      "58it [00:19,  2.94it/s]"
     ]
    },
    {
     "name": "stdout",
     "output_type": "stream",
     "text": [
      "Train: loss - 0.04098869115114212, acc. - 0.5629714439655172\n"
     ]
    },
    {
     "name": "stderr",
     "output_type": "stream",
     "text": [
      "\n",
      "6it [00:00,  8.01it/s]\n"
     ]
    },
    {
     "name": "stdout",
     "output_type": "stream",
     "text": [
      "Test: test_loss - 0.134927436709404, test_accuracy - 0.1953125\n",
      "EPOCH:21\n"
     ]
    },
    {
     "name": "stderr",
     "output_type": "stream",
     "text": [
      "58it [00:20,  2.89it/s]"
     ]
    },
    {
     "name": "stdout",
     "output_type": "stream",
     "text": [
      "Train: loss - 0.03803713982603673, acc. - 0.5827047413793104\n"
     ]
    },
    {
     "name": "stderr",
     "output_type": "stream",
     "text": [
      "\n",
      "6it [00:00,  7.89it/s]\n"
     ]
    },
    {
     "name": "stdout",
     "output_type": "stream",
     "text": [
      "Test: test_loss - 0.13258922348419824, test_accuracy - 0.20638020833333334\n",
      "EPOCH:22\n"
     ]
    },
    {
     "name": "stderr",
     "output_type": "stream",
     "text": [
      "58it [00:19,  2.94it/s]"
     ]
    },
    {
     "name": "stdout",
     "output_type": "stream",
     "text": [
      "Train: loss - 0.035731265289259365, acc. - 0.6064789870689655\n"
     ]
    },
    {
     "name": "stderr",
     "output_type": "stream",
     "text": [
      "\n",
      "6it [00:00,  8.06it/s]\n"
     ]
    },
    {
     "name": "stdout",
     "output_type": "stream",
     "text": [
      "Epoch    22: reducing learning rate of group 0 to 7.0000e-04.\n",
      "Test: test_loss - 0.13567518442869186, test_accuracy - 0.2109375\n",
      "EPOCH:23\n"
     ]
    },
    {
     "name": "stderr",
     "output_type": "stream",
     "text": [
      "58it [00:19,  2.95it/s]"
     ]
    },
    {
     "name": "stdout",
     "output_type": "stream",
     "text": [
      "Train: loss - 0.028733460328959185, acc. - 0.6761179956896551\n"
     ]
    },
    {
     "name": "stderr",
     "output_type": "stream",
     "text": [
      "\n",
      "6it [00:00,  7.96it/s]\n"
     ]
    },
    {
     "name": "stdout",
     "output_type": "stream",
     "text": [
      "Test: test_loss - 0.13421798000733057, test_accuracy - 0.208984375\n",
      "EPOCH:24\n"
     ]
    },
    {
     "name": "stderr",
     "output_type": "stream",
     "text": [
      "58it [00:19,  2.94it/s]"
     ]
    },
    {
     "name": "stdout",
     "output_type": "stream",
     "text": [
      "Train: loss - 0.023597873811577928, acc. - 0.7332300646551724\n"
     ]
    },
    {
     "name": "stderr",
     "output_type": "stream",
     "text": [
      "\n",
      "6it [00:00,  8.16it/s]\n"
     ]
    },
    {
     "name": "stdout",
     "output_type": "stream",
     "text": [
      "Test: test_loss - 0.13375901555021605, test_accuracy - 0.20638020833333334\n",
      "EPOCH:25\n"
     ]
    },
    {
     "name": "stderr",
     "output_type": "stream",
     "text": [
      "58it [00:19,  2.95it/s]"
     ]
    },
    {
     "name": "stdout",
     "output_type": "stream",
     "text": [
      "Train: loss - 0.021325240521852314, acc. - 0.7588900862068966\n"
     ]
    },
    {
     "name": "stderr",
     "output_type": "stream",
     "text": [
      "\n",
      "6it [00:00,  7.84it/s]\n"
     ]
    },
    {
     "name": "stdout",
     "output_type": "stream",
     "text": [
      "Test: test_loss - 0.13562542448441187, test_accuracy - 0.197265625\n",
      "EPOCH:26\n"
     ]
    },
    {
     "name": "stderr",
     "output_type": "stream",
     "text": [
      "58it [00:19,  2.95it/s]"
     ]
    },
    {
     "name": "stdout",
     "output_type": "stream",
     "text": [
      "Train: loss - 0.020391801757545305, acc. - 0.7664331896551724\n"
     ]
    },
    {
     "name": "stderr",
     "output_type": "stream",
     "text": [
      "\n",
      "6it [00:00,  7.98it/s]\n"
     ]
    },
    {
     "name": "stdout",
     "output_type": "stream",
     "text": [
      "Test: test_loss - 0.13601712882518768, test_accuracy - 0.20963541666666666\n",
      "EPOCH:27\n"
     ]
    },
    {
     "name": "stderr",
     "output_type": "stream",
     "text": [
      "58it [00:19,  2.96it/s]"
     ]
    },
    {
     "name": "stdout",
     "output_type": "stream",
     "text": [
      "Train: loss - 0.020316102477753985, acc. - 0.7653556034482759\n"
     ]
    },
    {
     "name": "stderr",
     "output_type": "stream",
     "text": [
      "\n",
      "6it [00:00,  8.14it/s]\n"
     ]
    },
    {
     "name": "stdout",
     "output_type": "stream",
     "text": [
      "Test: test_loss - 0.13736445705095926, test_accuracy - 0.203125\n",
      "EPOCH:28\n"
     ]
    },
    {
     "name": "stderr",
     "output_type": "stream",
     "text": [
      "58it [00:19,  2.94it/s]"
     ]
    },
    {
     "name": "stdout",
     "output_type": "stream",
     "text": [
      "Train: loss - 0.0195859017428653, acc. - 0.7738415948275862\n"
     ]
    },
    {
     "name": "stderr",
     "output_type": "stream",
     "text": [
      "\n",
      "6it [00:00,  8.13it/s]\n"
     ]
    },
    {
     "name": "stdout",
     "output_type": "stream",
     "text": [
      "Test: test_loss - 0.13740385820468268, test_accuracy - 0.20963541666666666\n",
      "EPOCH:29\n"
     ]
    },
    {
     "name": "stderr",
     "output_type": "stream",
     "text": [
      "58it [00:19,  2.95it/s]"
     ]
    },
    {
     "name": "stdout",
     "output_type": "stream",
     "text": [
      "Train: loss - 0.0202625736529971, acc. - 0.7631330818965517\n"
     ]
    },
    {
     "name": "stderr",
     "output_type": "stream",
     "text": [
      "\n",
      "6it [00:00,  8.10it/s]\n"
     ]
    },
    {
     "name": "stdout",
     "output_type": "stream",
     "text": [
      "Test: test_loss - 0.135683203736941, test_accuracy - 0.20638020833333334\n",
      "EPOCH:30\n"
     ]
    },
    {
     "name": "stderr",
     "output_type": "stream",
     "text": [
      "58it [00:19,  2.95it/s]"
     ]
    },
    {
     "name": "stdout",
     "output_type": "stream",
     "text": [
      "Train: loss - 0.019009493114747877, acc. - 0.77734375\n"
     ]
    },
    {
     "name": "stderr",
     "output_type": "stream",
     "text": [
      "\n",
      "6it [00:00,  8.08it/s]\n"
     ]
    },
    {
     "name": "stdout",
     "output_type": "stream",
     "text": [
      "Test: test_loss - 0.13939335197210312, test_accuracy - 0.197265625\n",
      "EPOCH:31\n"
     ]
    },
    {
     "name": "stderr",
     "output_type": "stream",
     "text": [
      "58it [00:19,  2.95it/s]"
     ]
    },
    {
     "name": "stdout",
     "output_type": "stream",
     "text": [
      "Train: loss - 0.01856907086189965, acc. - 0.7884563577586207\n"
     ]
    },
    {
     "name": "stderr",
     "output_type": "stream",
     "text": [
      "\n",
      "6it [00:00,  8.13it/s]\n"
     ]
    },
    {
     "name": "stdout",
     "output_type": "stream",
     "text": [
      "Test: test_loss - 0.1416647732257843, test_accuracy - 0.205078125\n",
      "EPOCH:32\n"
     ]
    },
    {
     "name": "stderr",
     "output_type": "stream",
     "text": [
      "58it [00:19,  2.95it/s]"
     ]
    },
    {
     "name": "stdout",
     "output_type": "stream",
     "text": [
      "Train: loss - 0.018110819530255836, acc. - 0.7836745689655172\n"
     ]
    },
    {
     "name": "stderr",
     "output_type": "stream",
     "text": [
      "\n",
      "6it [00:00,  8.02it/s]\n"
     ]
    },
    {
     "name": "stdout",
     "output_type": "stream",
     "text": [
      "Test: test_loss - 0.1431769753495852, test_accuracy - 0.20833333333333334\n",
      "EPOCH:33\n"
     ]
    },
    {
     "name": "stderr",
     "output_type": "stream",
     "text": [
      "58it [00:19,  2.95it/s]"
     ]
    },
    {
     "name": "stdout",
     "output_type": "stream",
     "text": [
      "Train: loss - 0.017757521669284022, acc. - 0.791015625\n"
     ]
    },
    {
     "name": "stderr",
     "output_type": "stream",
     "text": [
      "\n",
      "6it [00:00,  8.19it/s]\n"
     ]
    },
    {
     "name": "stdout",
     "output_type": "stream",
     "text": [
      "Epoch    33: reducing learning rate of group 0 to 4.9000e-04.\n",
      "Test: test_loss - 0.1438375860452652, test_accuracy - 0.19986979166666666\n",
      "EPOCH:34\n"
     ]
    },
    {
     "name": "stderr",
     "output_type": "stream",
     "text": [
      "58it [00:19,  2.95it/s]"
     ]
    },
    {
     "name": "stdout",
     "output_type": "stream",
     "text": [
      "Train: loss - 0.015010158306565779, acc. - 0.826171875\n"
     ]
    },
    {
     "name": "stderr",
     "output_type": "stream",
     "text": [
      "\n",
      "6it [00:00,  8.09it/s]\n"
     ]
    },
    {
     "name": "stdout",
     "output_type": "stream",
     "text": [
      "Test: test_loss - 0.1369093954563141, test_accuracy - 0.212890625\n",
      "EPOCH:35\n"
     ]
    },
    {
     "name": "stderr",
     "output_type": "stream",
     "text": [
      "58it [00:19,  2.95it/s]"
     ]
    },
    {
     "name": "stdout",
     "output_type": "stream",
     "text": [
      "Train: loss - 0.012694357830131876, acc. - 0.8545258620689655\n"
     ]
    },
    {
     "name": "stderr",
     "output_type": "stream",
     "text": [
      "\n",
      "6it [00:00,  7.92it/s]\n"
     ]
    },
    {
     "name": "stdout",
     "output_type": "stream",
     "text": [
      "Test: test_loss - 0.13871275385220846, test_accuracy - 0.19856770833333334\n",
      "EPOCH:36\n"
     ]
    },
    {
     "name": "stderr",
     "output_type": "stream",
     "text": [
      "58it [00:19,  2.96it/s]"
     ]
    },
    {
     "name": "stdout",
     "output_type": "stream",
     "text": [
      "Train: loss - 0.011745799878804848, acc. - 0.8624057112068966\n"
     ]
    },
    {
     "name": "stderr",
     "output_type": "stream",
     "text": [
      "\n",
      "6it [00:00,  8.10it/s]\n"
     ]
    },
    {
     "name": "stdout",
     "output_type": "stream",
     "text": [
      "Test: test_loss - 0.13818038006623587, test_accuracy - 0.220703125\n",
      "EPOCH:37\n"
     ]
    },
    {
     "name": "stderr",
     "output_type": "stream",
     "text": [
      "58it [00:19,  2.95it/s]"
     ]
    },
    {
     "name": "stdout",
     "output_type": "stream",
     "text": [
      "Train: loss - 0.011851155102766794, acc. - 0.8637526939655172\n"
     ]
    },
    {
     "name": "stderr",
     "output_type": "stream",
     "text": [
      "\n",
      "6it [00:00,  7.54it/s]\n"
     ]
    },
    {
     "name": "stdout",
     "output_type": "stream",
     "text": [
      "Test: test_loss - 0.13772602876027426, test_accuracy - 0.21744791666666666\n",
      "EPOCH:38\n"
     ]
    },
    {
     "name": "stderr",
     "output_type": "stream",
     "text": [
      "58it [00:19,  2.95it/s]"
     ]
    },
    {
     "name": "stdout",
     "output_type": "stream",
     "text": [
      "Train: loss - 0.011263051824965354, acc. - 0.871161099137931\n"
     ]
    },
    {
     "name": "stderr",
     "output_type": "stream",
     "text": [
      "\n",
      "6it [00:00,  8.01it/s]\n"
     ]
    },
    {
     "name": "stdout",
     "output_type": "stream",
     "text": [
      "Test: test_loss - 0.1403189847866694, test_accuracy - 0.19596354166666666\n",
      "EPOCH:39\n"
     ]
    },
    {
     "name": "stderr",
     "output_type": "stream",
     "text": [
      "58it [00:19,  2.95it/s]"
     ]
    },
    {
     "name": "stdout",
     "output_type": "stream",
     "text": [
      "Train: loss - 0.011268432541140195, acc. - 0.8719019396551724\n"
     ]
    },
    {
     "name": "stderr",
     "output_type": "stream",
     "text": [
      "\n",
      "6it [00:00,  8.14it/s]\n"
     ]
    },
    {
     "name": "stdout",
     "output_type": "stream",
     "text": [
      "Test: test_loss - 0.1412010764082273, test_accuracy - 0.19140625\n",
      "EPOCH:40\n"
     ]
    },
    {
     "name": "stderr",
     "output_type": "stream",
     "text": [
      "58it [00:19,  2.95it/s]"
     ]
    },
    {
     "name": "stdout",
     "output_type": "stream",
     "text": [
      "Train: loss - 0.01115599032973164, acc. - 0.8699488146551724\n"
     ]
    },
    {
     "name": "stderr",
     "output_type": "stream",
     "text": [
      "\n",
      "6it [00:00,  8.00it/s]\n"
     ]
    },
    {
     "name": "stdout",
     "output_type": "stream",
     "text": [
      "Test: test_loss - 0.13739377011855444, test_accuracy - 0.197265625\n",
      "EPOCH:41\n"
     ]
    },
    {
     "name": "stderr",
     "output_type": "stream",
     "text": [
      "58it [00:19,  2.94it/s]"
     ]
    },
    {
     "name": "stdout",
     "output_type": "stream",
     "text": [
      "Train: loss - 0.01114811224798704, acc. - 0.8702855603448276\n"
     ]
    },
    {
     "name": "stderr",
     "output_type": "stream",
     "text": [
      "\n",
      "6it [00:00,  7.26it/s]\n"
     ]
    },
    {
     "name": "stdout",
     "output_type": "stream",
     "text": [
      "Test: test_loss - 0.13600054879983267, test_accuracy - 0.20703125\n",
      "EPOCH:42\n"
     ]
    },
    {
     "name": "stderr",
     "output_type": "stream",
     "text": [
      "58it [00:19,  2.94it/s]"
     ]
    },
    {
     "name": "stdout",
     "output_type": "stream",
     "text": [
      "Train: loss - 0.011210206655207378, acc. - 0.8694100215517241\n"
     ]
    },
    {
     "name": "stderr",
     "output_type": "stream",
     "text": [
      "\n",
      "6it [00:00,  7.35it/s]\n"
     ]
    },
    {
     "name": "stdout",
     "output_type": "stream",
     "text": [
      "Test: test_loss - 0.14117040485143661, test_accuracy - 0.20377604166666666\n",
      "EPOCH:43\n"
     ]
    },
    {
     "name": "stderr",
     "output_type": "stream",
     "text": [
      "58it [00:19,  2.94it/s]"
     ]
    },
    {
     "name": "stdout",
     "output_type": "stream",
     "text": [
      "Train: loss - 0.011244018224935079, acc. - 0.8680630387931034\n"
     ]
    },
    {
     "name": "stderr",
     "output_type": "stream",
     "text": [
      "\n",
      "6it [00:00,  7.54it/s]\n"
     ]
    },
    {
     "name": "stdout",
     "output_type": "stream",
     "text": [
      "Test: test_loss - 0.14187845339377722, test_accuracy - 0.20052083333333334\n",
      "EPOCH:44\n"
     ]
    },
    {
     "name": "stderr",
     "output_type": "stream",
     "text": [
      "58it [00:20,  2.82it/s]"
     ]
    },
    {
     "name": "stdout",
     "output_type": "stream",
     "text": [
      "Train: loss - 0.01098087248552976, acc. - 0.8734509698275862\n"
     ]
    },
    {
     "name": "stderr",
     "output_type": "stream",
     "text": [
      "\n",
      "6it [00:00,  7.69it/s]"
     ]
    },
    {
     "name": "stdout",
     "output_type": "stream",
     "text": [
      "Epoch    44: reducing learning rate of group 0 to 3.4300e-04.\n",
      "Test: test_loss - 0.14109230289856592, test_accuracy - 0.21158854166666666\n",
      "EPOCH:45\n"
     ]
    },
    {
     "name": "stderr",
     "output_type": "stream",
     "text": [
      "\n",
      "58it [00:20,  2.88it/s]"
     ]
    },
    {
     "name": "stdout",
     "output_type": "stream",
     "text": [
      "Train: loss - 0.010056976598269981, acc. - 0.8846309267241379\n"
     ]
    },
    {
     "name": "stderr",
     "output_type": "stream",
     "text": [
      "\n",
      "6it [00:00,  8.25it/s]\n"
     ]
    },
    {
     "name": "stdout",
     "output_type": "stream",
     "text": [
      "Test: test_loss - 0.13946018368005753, test_accuracy - 0.19596354166666666\n",
      "EPOCH:46\n"
     ]
    },
    {
     "name": "stderr",
     "output_type": "stream",
     "text": [
      "58it [00:20,  2.86it/s]"
     ]
    },
    {
     "name": "stdout",
     "output_type": "stream",
     "text": [
      "Train: loss - 0.009559083754068306, acc. - 0.8894127155172413\n"
     ]
    },
    {
     "name": "stderr",
     "output_type": "stream",
     "text": [
      "\n",
      "6it [00:00,  7.89it/s]\n"
     ]
    },
    {
     "name": "stdout",
     "output_type": "stream",
     "text": [
      "Test: test_loss - 0.13862123837073645, test_accuracy - 0.2109375\n",
      "EPOCH:47\n"
     ]
    },
    {
     "name": "stderr",
     "output_type": "stream",
     "text": [
      "58it [00:20,  2.86it/s]"
     ]
    },
    {
     "name": "stdout",
     "output_type": "stream",
     "text": [
      "Train: loss - 0.009144575961319536, acc. - 0.8949353448275862\n"
     ]
    },
    {
     "name": "stderr",
     "output_type": "stream",
     "text": [
      "\n",
      "6it [00:00,  7.03it/s]\n"
     ]
    },
    {
     "name": "stdout",
     "output_type": "stream",
     "text": [
      "Test: test_loss - 0.13779349873463312, test_accuracy - 0.21614583333333334\n",
      "EPOCH:48\n"
     ]
    },
    {
     "name": "stderr",
     "output_type": "stream",
     "text": [
      "58it [00:20,  2.78it/s]"
     ]
    },
    {
     "name": "stdout",
     "output_type": "stream",
     "text": [
      "Train: loss - 0.00925435489525312, acc. - 0.8928475215517241\n"
     ]
    },
    {
     "name": "stderr",
     "output_type": "stream",
     "text": [
      "\n",
      "6it [00:00,  8.05it/s]\n"
     ]
    },
    {
     "name": "stdout",
     "output_type": "stream",
     "text": [
      "Test: test_loss - 0.13796123365561166, test_accuracy - 0.21028645833333334\n",
      "EPOCH:49\n"
     ]
    },
    {
     "name": "stderr",
     "output_type": "stream",
     "text": [
      "58it [00:20,  2.88it/s]"
     ]
    },
    {
     "name": "stdout",
     "output_type": "stream",
     "text": [
      "Train: loss - 0.008870069363058126, acc. - 0.8979660560344828\n"
     ]
    },
    {
     "name": "stderr",
     "output_type": "stream",
     "text": [
      "\n",
      "6it [00:00,  7.96it/s]\n"
     ]
    },
    {
     "name": "stdout",
     "output_type": "stream",
     "text": [
      "Test: test_loss - 0.13716595992445946, test_accuracy - 0.21744791666666666\n",
      "EPOCH:50\n"
     ]
    },
    {
     "name": "stderr",
     "output_type": "stream",
     "text": [
      "58it [00:20,  2.89it/s]"
     ]
    },
    {
     "name": "stdout",
     "output_type": "stream",
     "text": [
      "Train: loss - 0.008685747482653322, acc. - 0.8997171336206896\n"
     ]
    },
    {
     "name": "stderr",
     "output_type": "stream",
     "text": [
      "\n",
      "6it [00:00,  8.07it/s]\n"
     ]
    },
    {
     "name": "stdout",
     "output_type": "stream",
     "text": [
      "Test: test_loss - 0.1372592474023501, test_accuracy - 0.22200520833333334\n"
     ]
    }
   ],
   "source": [
    "for epoch in range(epochs):\n",
    "    print(f\"EPOCH:{epoch + 1}\", flush=True)\n",
    "    loss_sum = 0\n",
    "    correct = 0\n",
    "    model.train()\n",
    "    for i, batch in tqdm(enumerate(train)):\n",
    "        x, y = batch[0].to(\"cuda\"), batch[1].to(\"cuda\")\n",
    "        optimizer.zero_grad()\n",
    "        pred = model(x)\n",
    "        l = loss(pred, y)\n",
    "        l.backward()\n",
    "        loss_sum += l.item()\n",
    "        correct += torch.sum(torch.all((pred > 0.5) == y, dim=1))\n",
    "        optimizer.step()\n",
    "    loss_sum = loss_sum / len(train)\n",
    "    accuracy = correct.item() / len(train) / batch_size\n",
    "    log[\"loss\"].append(loss_sum)\n",
    "    log[\"accuracy\"].append(accuracy)\n",
    "    print(f\"Train: loss - {loss_sum}, acc. - {accuracy}\")\n",
    "    \n",
    "    loss_sum = 0\n",
    "    correct = 0\n",
    "    model.eval()\n",
    "    with torch.no_grad():\n",
    "        for i, batch in tqdm(enumerate(test)):\n",
    "            x, y = batch[0].to(\"cuda\"), batch[1].to(\"cuda\")\n",
    "            pred = model(x)\n",
    "            l = loss(pred, y)\n",
    "            loss_sum += l.item()\n",
    "            correct += torch.sum(torch.all((pred > 0.5) == y, dim=1))\n",
    "        loss_sum = loss_sum / len(test)\n",
    "        accuracy = correct.item() / len(test) / batch_size\n",
    "        log[\"test_loss\"].append(loss_sum)\n",
    "        log[\"test_accuracy\"].append(accuracy)\n",
    "        scheduler.step(loss_sum)\n",
    "        print(f\"Test: test_loss - {loss_sum}, test_accuracy - {accuracy}\")\n",
    "    torch.save(model.state_dict(), join(\"results\", model_name, \"weights\", f\"{epochs}.pth\"))"
   ]
  },
  {
   "cell_type": "code",
   "execution_count": 10,
   "id": "521e273f",
   "metadata": {},
   "outputs": [
    {
     "data": {
      "image/png": "[encoded data removed]",
      "text/plain": [
       "<Figure size 800x600 with 1 Axes>"
      ]
     },
     "metadata": {},
     "output_type": "display_data"
    },
    {
     "data": {
      "image/png": "[encoded data removed]",
      "text/plain": [
       "<Figure size 800x600 with 1 Axes>"
      ]
     },
     "metadata": {},
     "output_type": "display_data"
    }
   ],
   "source": [
    "plt.figure(figsize=(8, 6), dpi=100)\n",
    "plt.title(\"loss\")\n",
    "plt.plot(np.arange(epochs), log[\"loss\"], label=\"train\")\n",
    "plt.plot(np.arange(epochs), log[\"test_loss\"], label=\"test\")\n",
    "plt.savefig(join(\"results\", model_name, \"loss.png\"))\n",
    "plt.legend()\n",
    "plt.show()\n",
    "\n",
    "plt.figure(figsize=(8, 6), dpi=100)\n",
    "plt.title(\"accuracy\")\n",
    "plt.plot(np.arange(epochs), log[\"accuracy\"], label=\"train\")\n",
    "plt.plot(np.arange(epochs), log[\"test_accuracy\"], label=\"test\")\n",
    "plt.savefig(join(\"results\", model_name, \"accuracy.png\"))\n",
    "plt.legend()\n",
    "plt.show()"
   ]
  }
 ],
 "metadata": {
  "kernelspec": {
   "display_name": "pytorch",
   "language": "python",
   "name": "pytorch"
  },
  "language_info": {
   "codemirror_mode": {
    "name": "ipython",
    "version": 3
   },
   "file_extension": ".py",
   "mimetype": "text/x-python",
   "name": "python",
   "nbconvert_exporter": "python",
   "pygments_lexer": "ipython3",
   "version": "3.8.11"
  }
 },
 "nbformat": 4,
 "nbformat_minor": 5
}
