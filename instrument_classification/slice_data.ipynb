{
 "cells": [
  {
   "cell_type": "code",
   "execution_count": 1,
   "id": "25f1f670",
   "metadata": {},
   "outputs": [],
   "source": [
    "import os\n",
    "import librosa\n",
    "import soundfile\n",
    "import numpy as np\n",
    "import pandas as pd\n",
    "from os.path import join, exists\n",
    "from tqdm import tqdm"
   ]
  },
  {
   "cell_type": "code",
   "execution_count": 2,
   "id": "e3ebc507",
   "metadata": {},
   "outputs": [],
   "source": [
    "datasets = [\"freesound\"]\n",
    "raw_data = join(\"data\", \"raw_data\")\n",
    "clean_data = join(\"data\", \"clean_data\")\n",
    "sr = 44100\n",
    "sample_duration = 0.96"
   ]
  },
  {
   "cell_type": "code",
   "execution_count": null,
   "id": "aaed9484",
   "metadata": {},
   "outputs": [
    {
     "name": "stderr",
     "output_type": "stream",
     "text": [
      "213it [01:09,  1.71it/s]"
     ]
    }
   ],
   "source": [
    "sample_n = 0\n",
    "for dataset in datasets:\n",
    "    result = []\n",
    "    csv = pd.read_csv(join(raw_data, dataset, \"samples.csv\"), index_col=0)\n",
    "    for i, row in tqdm(csv.iterrows()):\n",
    "        file, label = row\n",
    "        x, orig_sr = librosa.load(join(raw_data, dataset, \"samples\", file), sr=sr)\n",
    "        x = librosa.resample(x, orig_sr, sr)\n",
    "        x, _ = librosa.effects.trim(x, top_db=35)\n",
    "        n_slices = int(np.ceil(x.shape[0] / sr))\n",
    "        for i in range(n_slices):\n",
    "            sample_name = f\"{sample_n}.wav\"\n",
    "            sample = x[i * sr:(i + 1) * sr]\n",
    "            soundfile.write(join(clean_data, dataset, \"samples\", sample_name), sample, sr)\n",
    "            result.append((sample_name, label))\n",
    "            sample_n += 1\n",
    "    df = pd.DataFrame(result, columns=[\"file\", \"label\"])\n",
    "    df.to_csv(join(clean_data, dataset, \"samples.csv\"))"
   ]
  }
 ],
 "metadata": {
  "kernelspec": {
   "display_name": "pytorch",
   "language": "python",
   "name": "pytorch"
  },
  "language_info": {
   "codemirror_mode": {
    "name": "ipython",
    "version": 3
   },
   "file_extension": ".py",
   "mimetype": "text/x-python",
   "name": "python",
   "nbconvert_exporter": "python",
   "pygments_lexer": "ipython3",
   "version": "3.8.11"
  }
 },
 "nbformat": 4,
 "nbformat_minor": 5
}
